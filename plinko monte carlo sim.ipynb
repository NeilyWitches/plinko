{
 "cells": [
  {
   "cell_type": "code",
   "execution_count": 1,
   "metadata": {},
   "outputs": [],
   "source": [
    "import random"
   ]
  },
  {
   "cell_type": "code",
   "execution_count": 89,
   "metadata": {},
   "outputs": [],
   "source": [
    "def plinko(location):\n",
    "    if location == \"1,1\":\n",
    "        n = random.randrange(0,2)\n",
    "        if n == 0:\n",
    "            location = \"2,0\"\n",
    "        else:\n",
    "            location = \"2,1\"\n",
    "    if location == \"1,2\":\n",
    "        n = random.randrange(0,2)\n",
    "        if n == 0:\n",
    "            location = \"2,1\"\n",
    "        else:\n",
    "            location = \"2,2\"\n",
    "    if location == \"1,3\":\n",
    "        n = random.randrange(0,2)\n",
    "        if n == 0:\n",
    "            location = \"2,2\"\n",
    "        else:\n",
    "            location = \"2,3\"\n",
    "    if location == \"1,4\":\n",
    "        n = random.randrange(0,2)\n",
    "        if n == 0:\n",
    "            location = \"2,3\"\n",
    "        else:\n",
    "            location = \"2,4\"\n",
    "    if location == \"1,5\":\n",
    "        n = random.randrange(0,2)\n",
    "        if n == 0:\n",
    "            location = \"2,4\"\n",
    "        else:\n",
    "            location = \"2,5\"\n",
    "    if location == \"2,0\":\n",
    "        location = \"3,1\"\n",
    "    if location == \"2,1\":\n",
    "        n = random.randrange(0,2)\n",
    "        if n == 0:\n",
    "            location = \"3,1\"\n",
    "        else:\n",
    "            location = \"3,2\"\n",
    "    if location == \"2,2\":\n",
    "        n = random.randrange(0,2)\n",
    "        if n == 0:\n",
    "            location = \"3,2\"\n",
    "        else:\n",
    "            location = \"3,3\"\n",
    "    if location == \"2,3\":\n",
    "        n = random.randrange(0,2)\n",
    "        if n == 0:\n",
    "            location = \"3,3\"\n",
    "        else:\n",
    "            location = \"3,4\"\n",
    "    if location == \"2,4\":\n",
    "        n = random.randrange(0,2)\n",
    "        if n == 0:\n",
    "            location = \"3,4\"\n",
    "        else:\n",
    "            location = \"3,5\"\n",
    "    if location == \"2,5\":\n",
    "        location = \"3,5\"\n",
    "    if location == \"3,1\":\n",
    "        n = random.randrange(0,2)\n",
    "        if n == 0:\n",
    "            location = \"4,0\"\n",
    "        else:\n",
    "            location = \"4,1\"\n",
    "    if location == \"3,2\":\n",
    "        n = random.randrange(0,2)\n",
    "        if n == 0:\n",
    "            location = \"4,1\"\n",
    "        else:\n",
    "            location = \"4,2\"\n",
    "    if location == \"3,3\":\n",
    "        n = random.randrange(0,2)\n",
    "        if n == 0:\n",
    "            location = \"4,2\"\n",
    "        else:\n",
    "            location = \"4,3\"\n",
    "    if location == \"3,4\":\n",
    "        n = random.randrange(0,2)\n",
    "        if n == 0:\n",
    "            location = \"4,3\"\n",
    "        else:\n",
    "            location = \"4,4\"\n",
    "    if location == \"3,5\":\n",
    "        n = random.randrange(0,2)\n",
    "        if n == 0:\n",
    "            location = \"4,4\"\n",
    "        else:\n",
    "            location = \"4,5\"\n",
    "    if location == \"4,0\":\n",
    "        location = \"5,1\"\n",
    "    if location == \"4,1\":\n",
    "        n = random.randrange(0,2)\n",
    "        if n == 0:\n",
    "            location = \"5,1\"\n",
    "        else:\n",
    "            location = \"5,2\"\n",
    "    if location == \"4,2\":\n",
    "        n = random.randrange(0,2)\n",
    "        if n == 0:\n",
    "            location = \"5,2\"\n",
    "        else:\n",
    "            location = \"5,3\"\n",
    "    if location == \"4,3\":\n",
    "        n = random.randrange(0,2)\n",
    "        if n == 0:\n",
    "            location = \"5,3\"\n",
    "        else:\n",
    "            location = \"5,4\"\n",
    "    if location == \"4,4\":\n",
    "        n = random.randrange(0,2)\n",
    "        if n == 0:\n",
    "            location = \"5,4\"\n",
    "        else:\n",
    "            location = \"5,5\"\n",
    "    if location == \"4,5\":\n",
    "        location = \"5,5\"\n",
    "    if location == \"5,1\":\n",
    "        n = random.randrange(0,2)\n",
    "        if n == 0:\n",
    "            location = \"6,0\"\n",
    "        else:\n",
    "            location = \"6,1\"\n",
    "    if location == \"5,2\":\n",
    "        n = random.randrange(0,2)\n",
    "        if n == 0:\n",
    "            location = \"6,1\"\n",
    "        else:\n",
    "            location = \"6,2\"\n",
    "    if location == \"5,3\":\n",
    "        n = random.randrange(0,2)\n",
    "        if n == 0:\n",
    "            location = \"6,2\"\n",
    "        else:\n",
    "            location = \"6,3\"\n",
    "    if location == \"5,4\":\n",
    "        n = random.randrange(0,2)\n",
    "        if n == 0:\n",
    "            location = \"6,3\"\n",
    "        else:\n",
    "            location = \"6,4\"\n",
    "    if location == \"5,5\":\n",
    "        n = random.randrange(0,2)\n",
    "        if n == 0:\n",
    "            location = \"6,4\"\n",
    "        else:\n",
    "            location = \"6,5\"\n",
    "    if location == \"6,0\":\n",
    "        location = \"7,1\"\n",
    "    if location == \"6,1\":\n",
    "        n = random.randrange(0,2)\n",
    "        if n == 0:\n",
    "            location = \"7,1\"\n",
    "        else:\n",
    "            location = \"7,2\"\n",
    "    if location == \"6,2\":\n",
    "        n = random.randrange(0,2)\n",
    "        if n == 0:\n",
    "            location = \"7,2\"\n",
    "        else:\n",
    "            location = \"7,3\"\n",
    "    if location == \"6,3\":\n",
    "        n = random.randrange(0,2)\n",
    "        if n == 0:\n",
    "            location = \"7,3\"\n",
    "        else:\n",
    "            location = \"7,4\"\n",
    "    if location == \"6,4\":\n",
    "        n = random.randrange(0,2)\n",
    "        if n == 0:\n",
    "            location = \"7,4\"\n",
    "        else:\n",
    "            location = \"7,5\"\n",
    "    if location == \"6,5\":\n",
    "        location = \"7,5\"\n",
    "    if location == \"7,1\":\n",
    "        n = random.randrange(0,2)\n",
    "        if n == 0:\n",
    "            location = \"8,0\"\n",
    "        else:\n",
    "            location = \"8,1\"\n",
    "    if location == \"7,2\":\n",
    "        n = random.randrange(0,2)\n",
    "        if n == 0:\n",
    "            location = \"8,1\"\n",
    "        else:\n",
    "            location = \"8,2\"\n",
    "    if location == \"7,3\":\n",
    "        n = random.randrange(0,2)\n",
    "        if n == 0:\n",
    "            location = \"8,2\"\n",
    "        else:\n",
    "            location = \"8,3\"\n",
    "    if location == \"7,4\":\n",
    "        n = random.randrange(0,2)\n",
    "        if n == 0:\n",
    "            location = \"8,3\"\n",
    "        else:\n",
    "            location = \"8,4\"\n",
    "    if location == \"7,5\":\n",
    "        n = random.randrange(0,2)\n",
    "        if n == 0:\n",
    "            location = \"8,4\"\n",
    "        else:\n",
    "            location = \"8,5\"\n",
    "    if location == \"8,0\":\n",
    "        location = \"9,1\"\n",
    "    if location == \"8,1\":\n",
    "        n = random.randrange(0,2)\n",
    "        if n == 0:\n",
    "            location = \"9,1\"\n",
    "        else:\n",
    "            location = \"9,2\"\n",
    "    if location == \"8,2\":\n",
    "        n = random.randrange(0,2)\n",
    "        if n == 0:\n",
    "            location = \"9,2\"\n",
    "        else:\n",
    "            location = \"9,3\"\n",
    "    if location == \"8,3\":\n",
    "        n = random.randrange(0,2)\n",
    "        if n == 0:\n",
    "            location = \"9,3\"\n",
    "        else:\n",
    "            location = \"9,4\"\n",
    "    if location == \"8,4\":\n",
    "        n = random.randrange(0,2)\n",
    "        if n == 0:\n",
    "            location = \"9,4\"\n",
    "        else:\n",
    "            location = \"9,5\"\n",
    "    if location == \"8,5\":\n",
    "        location = \"9,5\"\n",
    "    if location == \"9,1\":\n",
    "        n = random.randrange(0,2)\n",
    "        if n == 0:\n",
    "            location = \"10,0\"\n",
    "        else:\n",
    "            location = \"10,1\"\n",
    "    if location == \"9,2\":\n",
    "        n = random.randrange(0,2)\n",
    "        if n == 0:\n",
    "            location = \"10,1\"\n",
    "        else:\n",
    "            location = \"10,2\"\n",
    "    if location == \"9,3\":\n",
    "        n = random.randrange(0,2)\n",
    "        if n == 0:\n",
    "            location = \"10,2\"\n",
    "        else:\n",
    "            location = \"10,3\"\n",
    "    if location == \"9,4\":\n",
    "        n = random.randrange(0,2)\n",
    "        if n == 0:\n",
    "            location = \"10,3\"\n",
    "        else:\n",
    "            location = \"10,4\"\n",
    "    if location == \"9,5\":\n",
    "        n = random.randrange(0,2)\n",
    "        if n == 0:\n",
    "            location = \"10,4\"\n",
    "        else:\n",
    "            location = \"10,5\"\n",
    "    if location == \"10,0\":\n",
    "        location = \"pocket 1\"\n",
    "    if location == \"10,1\":\n",
    "        n = random.randrange(0,2)\n",
    "        if n == 0:\n",
    "            location = \"pocket 1\"\n",
    "        else:\n",
    "            location = \"pocket 2\"\n",
    "    if location == \"10,2\":\n",
    "        n = random.randrange(0,2)\n",
    "        if n == 0:\n",
    "            location = \"pocket 2\"\n",
    "        else:\n",
    "            location = \"pocket 3\"\n",
    "    if location == \"10,3\":\n",
    "        n = random.randrange(0,2)\n",
    "        if n == 0:\n",
    "            location = \"pocket 3\"\n",
    "        else:\n",
    "            location = \"pocket 4\"\n",
    "    if location == \"10,4\":\n",
    "        n = random.randrange(0,2)\n",
    "        if n == 0:\n",
    "            location = \"pocket 4\"\n",
    "        else:\n",
    "            location = \"pocket 5\"\n",
    "    if location == \"10,5\":\n",
    "        location = \"pocket 5\"\n",
    "    \n",
    "    return location"
   ]
  },
  {
   "cell_type": "code",
   "execution_count": 157,
   "metadata": {},
   "outputs": [],
   "source": [
    "list10 = [None]*500\n",
    "for i in range(500):\n",
    "    list10[i] = plinko(\"2,4\")"
   ]
  },
  {
   "cell_type": "code",
   "execution_count": 164,
   "metadata": {},
   "outputs": [],
   "source": [
    "i = 0"
   ]
  },
  {
   "cell_type": "code",
   "execution_count": 163,
   "metadata": {},
   "outputs": [],
   "source": [
    "dictionary10 = dict.fromkeys(list10, 0)"
   ]
  },
  {
   "cell_type": "code",
   "execution_count": 171,
   "metadata": {},
   "outputs": [],
   "source": [
    "for i in range(500):\n",
    "    dictionary10[list10[i]] += 1"
   ]
  },
  {
   "cell_type": "code",
   "execution_count": 172,
   "metadata": {},
   "outputs": [],
   "source": [
    "i = 0"
   ]
  },
  {
   "cell_type": "code",
   "execution_count": 140,
   "metadata": {},
   "outputs": [
    {
     "data": {
      "text/plain": [
       "{'pocket 2': 164,\n",
       " 'pocket 4': 20,\n",
       " 'pocket 1': 244,\n",
       " 'pocket 3': 69,\n",
       " 'pocket 5': 3}"
      ]
     },
     "execution_count": 140,
     "metadata": {},
     "output_type": "execute_result"
    }
   ],
   "source": [
    "dictionary0"
   ]
  },
  {
   "cell_type": "code",
   "execution_count": 141,
   "metadata": {},
   "outputs": [
    {
     "data": {
      "text/plain": [
       "{'pocket 2': 156,\n",
       " 'pocket 1': 239,\n",
       " 'pocket 3': 84,\n",
       " 'pocket 4': 20,\n",
       " 'pocket 5': 1}"
      ]
     },
     "execution_count": 141,
     "metadata": {},
     "output_type": "execute_result"
    }
   ],
   "source": [
    "dictionary1"
   ]
  },
  {
   "cell_type": "code",
   "execution_count": 142,
   "metadata": {},
   "outputs": [
    {
     "data": {
      "text/plain": [
       "{'pocket 2': 162,\n",
       " 'pocket 1': 144,\n",
       " 'pocket 3': 102,\n",
       " 'pocket 4': 60,\n",
       " 'pocket 5': 32}"
      ]
     },
     "execution_count": 142,
     "metadata": {},
     "output_type": "execute_result"
    }
   ],
   "source": [
    "dictionary2"
   ]
  },
  {
   "cell_type": "code",
   "execution_count": 143,
   "metadata": {},
   "outputs": [
    {
     "data": {
      "text/plain": [
       "{'pocket 2': 117,\n",
       " 'pocket 5': 79,\n",
       " 'pocket 1': 80,\n",
       " 'pocket 4': 110,\n",
       " 'pocket 3': 114}"
      ]
     },
     "execution_count": 143,
     "metadata": {},
     "output_type": "execute_result"
    }
   ],
   "source": [
    "dictionary3"
   ]
  },
  {
   "cell_type": "code",
   "execution_count": 144,
   "metadata": {},
   "outputs": [
    {
     "data": {
      "text/plain": [
       "{'pocket 4': 161,\n",
       " 'pocket 5': 153,\n",
       " 'pocket 2': 51,\n",
       " 'pocket 1': 26,\n",
       " 'pocket 3': 109}"
      ]
     },
     "execution_count": 144,
     "metadata": {},
     "output_type": "execute_result"
    }
   ],
   "source": [
    "dictionary4"
   ]
  },
  {
   "cell_type": "code",
   "execution_count": 145,
   "metadata": {},
   "outputs": [
    {
     "data": {
      "text/plain": [
       "{'pocket 3': 73,\n",
       " 'pocket 5': 229,\n",
       " 'pocket 4': 161,\n",
       " 'pocket 2': 33,\n",
       " 'pocket 1': 4}"
      ]
     },
     "execution_count": 145,
     "metadata": {},
     "output_type": "execute_result"
    }
   ],
   "source": [
    "dictionary5"
   ]
  },
  {
   "cell_type": "code",
   "execution_count": 146,
   "metadata": {},
   "outputs": [
    {
     "data": {
      "text/plain": [
       "{'pocket 4': 180,\n",
       " 'pocket 5': 230,\n",
       " 'pocket 3': 69,\n",
       " 'pocket 2': 18,\n",
       " 'pocket 1': 3}"
      ]
     },
     "execution_count": 146,
     "metadata": {},
     "output_type": "execute_result"
    }
   ],
   "source": [
    "dictionary6"
   ]
  },
  {
   "cell_type": "code",
   "execution_count": 173,
   "metadata": {},
   "outputs": [
    {
     "data": {
      "text/plain": [
       "{'pocket 1': 198,\n",
       " 'pocket 2': 147,\n",
       " 'pocket 4': 33,\n",
       " 'pocket 3': 111,\n",
       " 'pocket 5': 11}"
      ]
     },
     "execution_count": 173,
     "metadata": {},
     "output_type": "execute_result"
    }
   ],
   "source": [
    "dictionary7"
   ]
  },
  {
   "cell_type": "code",
   "execution_count": 174,
   "metadata": {},
   "outputs": [
    {
     "data": {
      "text/plain": [
       "{'pocket 3': 120,\n",
       " 'pocket 4': 83,\n",
       " 'pocket 2': 151,\n",
       " 'pocket 5': 39,\n",
       " 'pocket 1': 107}"
      ]
     },
     "execution_count": 174,
     "metadata": {},
     "output_type": "execute_result"
    }
   ],
   "source": [
    "dictionary8"
   ]
  },
  {
   "cell_type": "code",
   "execution_count": 175,
   "metadata": {},
   "outputs": [
    {
     "data": {
      "text/plain": [
       "{'pocket 4': 118,\n",
       " 'pocket 5': 119,\n",
       " 'pocket 3': 135,\n",
       " 'pocket 2': 91,\n",
       " 'pocket 1': 37}"
      ]
     },
     "execution_count": 175,
     "metadata": {},
     "output_type": "execute_result"
    }
   ],
   "source": [
    "dictionary9"
   ]
  },
  {
   "cell_type": "code",
   "execution_count": 176,
   "metadata": {},
   "outputs": [
    {
     "data": {
      "text/plain": [
       "{'pocket 5': 192,\n",
       " 'pocket 4': 165,\n",
       " 'pocket 3': 94,\n",
       " 'pocket 2': 36,\n",
       " 'pocket 1': 13}"
      ]
     },
     "execution_count": 176,
     "metadata": {},
     "output_type": "execute_result"
    }
   ],
   "source": [
    "dictionary10"
   ]
  },
  {
   "cell_type": "code",
   "execution_count": 198,
   "metadata": {},
   "outputs": [],
   "source": [
    "with open('plinko10.csv', 'w') as f:\n",
    "    for key in dictionary10.keys():\n",
    "        f.write(\"%s,%s\\n\"%(key,dictionary10[key]))"
   ]
  },
  {
   "cell_type": "code",
   "execution_count": 199,
   "metadata": {},
   "outputs": [],
   "source": [
    "key = 0"
   ]
  },
  {
   "cell_type": "code",
   "execution_count": null,
   "metadata": {},
   "outputs": [],
   "source": []
  }
 ],
 "metadata": {
  "kernelspec": {
   "display_name": "Python 3",
   "language": "python",
   "name": "python3"
  },
  "language_info": {
   "codemirror_mode": {
    "name": "ipython",
    "version": 3
   },
   "file_extension": ".py",
   "mimetype": "text/x-python",
   "name": "python",
   "nbconvert_exporter": "python",
   "pygments_lexer": "ipython3",
   "version": "3.7.3"
  }
 },
 "nbformat": 4,
 "nbformat_minor": 2
}
